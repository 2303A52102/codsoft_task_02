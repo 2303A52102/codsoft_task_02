{
  "nbformat": 4,
  "nbformat_minor": 0,
  "metadata": {
    "colab": {
      "provenance": [],
      "authorship_tag": "ABX9TyN1sGUkcDGAtNHt6NhPNQ3v",
      "include_colab_link": true
    },
    "kernelspec": {
      "name": "python3",
      "display_name": "Python 3"
    },
    "language_info": {
      "name": "python"
    }
  },
  "cells": [
    {
      "cell_type": "markdown",
      "metadata": {
        "id": "view-in-github",
        "colab_type": "text"
      },
      "source": [
        "<a href=\"https://colab.research.google.com/github/2303A52102/codsoft_task_02/blob/main/Task_02.ipynb\" target=\"_parent\"><img src=\"https://colab.research.google.com/assets/colab-badge.svg\" alt=\"Open In Colab\"/></a>"
      ]
    },
    {
      "cell_type": "code",
      "execution_count": null,
      "metadata": {
        "colab": {
          "base_uri": "https://localhost:8080/"
        },
        "id": "9gFPP49v--lW",
        "outputId": "a1a25860-8c5c-494b-cad5-b3aab223a51f"
      },
      "outputs": [
        {
          "output_type": "stream",
          "name": "stdout",
          "text": [
            "Welcome to Tic-Tac-Toe!\n",
            "  |   |  \n",
            "--+---+--\n",
            "  |   |  \n",
            "--+---+--\n",
            "  |   |  \n"
          ]
        }
      ],
      "source": [
        "import math\n",
        "\n",
        "# Board setup\n",
        "board = [' ' for _ in range(9)]\n",
        "\n",
        "# Show the board\n",
        "def print_board():\n",
        "    for i in range(3):\n",
        "        print(board[3*i], '|', board[3*i+1], '|', board[3*i+2])\n",
        "        if i < 2:\n",
        "            print('--+---+--')\n",
        "\n",
        "# Check for winner\n",
        "def check_winner(brd, player):\n",
        "    win_states = [\n",
        "        [0,1,2], [3,4,5], [6,7,8],  # rows\n",
        "        [0,3,6], [1,4,7], [2,5,8],  # cols\n",
        "        [0,4,8], [2,4,6]            # diagonals\n",
        "    ]\n",
        "    for state in win_states:\n",
        "        if all(brd[i] == player for i in state):\n",
        "            return True\n",
        "    return False\n",
        "\n",
        "# Check for draw\n",
        "def is_draw(brd):\n",
        "    return all(cell != ' ' for cell in brd)\n",
        "\n",
        "# Get available moves\n",
        "def available_moves(brd):\n",
        "    return [i for i, x in enumerate(brd) if x == ' ']\n",
        "\n",
        "# Minimax Algorithm with Alpha-Beta Pruning\n",
        "def minimax(brd, depth, is_maximizing, alpha, beta):\n",
        "    if check_winner(brd, 'O'):\n",
        "        return 10 - depth\n",
        "    elif check_winner(brd, 'X'):\n",
        "        return depth - 10\n",
        "    elif is_draw(brd):\n",
        "        return 0\n",
        "\n",
        "    if is_maximizing:\n",
        "        max_eval = -math.inf\n",
        "        for i in available_moves(brd):\n",
        "            brd[i] = 'O'\n",
        "            eval = minimax(brd, depth+1, False, alpha, beta)\n",
        "            brd[i] = ' '\n",
        "            max_eval = max(max_eval, eval)\n",
        "            alpha = max(alpha, eval)\n",
        "            if beta <= alpha:\n",
        "                break\n",
        "        return max_eval\n",
        "    else:\n",
        "        min_eval = math.inf\n",
        "        for i in available_moves(brd):\n",
        "            brd[i] = 'X'\n",
        "            eval = minimax(brd, depth+1, True, alpha, beta)\n",
        "            brd[i] = ' '\n",
        "            min_eval = min(min_eval, eval)\n",
        "            beta = min(beta, eval)\n",
        "            if beta <= alpha:\n",
        "                break\n",
        "        return min_eval\n",
        "\n",
        "# Best move for AI\n",
        "def best_move():\n",
        "    best_score = -math.inf\n",
        "    move = None\n",
        "    for i in available_moves(board):\n",
        "        board[i] = 'O'\n",
        "        score = minimax(board, 0, False, -math.inf, math.inf)\n",
        "        board[i] = ' '\n",
        "        if score > best_score:\n",
        "            best_score = score\n",
        "            move = i\n",
        "    return move\n",
        "\n",
        "# Game loop\n",
        "def play_game():\n",
        "    print(\"Welcome to Tic-Tac-Toe!\")\n",
        "    print_board()\n",
        "\n",
        "    while True:\n",
        "        # Human move\n",
        "        move = int(input(\"Enter your move (1-9): \")) - 1\n",
        "        if board[move] != ' ':\n",
        "            print(\"Invalid move. Try again.\")\n",
        "            continue\n",
        "        board[move] = 'X'\n",
        "        print_board()\n",
        "\n",
        "        if check_winner(board, 'X'):\n",
        "            print(\"You win! 🎉\")\n",
        "            break\n",
        "        if is_draw(board):\n",
        "            print(\"It's a draw!\")\n",
        "            break\n",
        "\n",
        "        # AI move\n",
        "        print(\"AI is thinking...\")\n",
        "        ai_move = best_move()\n",
        "        board[ai_move] = 'O'\n",
        "        print_board()\n",
        "\n",
        "        if check_winner(board, 'O'):\n",
        "            print(\"AI wins! 💻\")\n",
        "            break\n",
        "        if is_draw(board):\n",
        "            print(\"It's a draw!\")\n",
        "            break\n",
        "\n",
        "play_game()\n"
      ]
    }
  ]
}